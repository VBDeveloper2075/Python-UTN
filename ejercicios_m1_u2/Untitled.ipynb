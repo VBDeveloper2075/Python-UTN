{
 "cells": [
  {
   "cell_type": "markdown",
   "id": "f3e0b390-64b3-451e-a1e8-1e8dfe155ca4",
   "metadata": {},
   "source": [
    "<h1 style=\"color:#26FAC9; font-size:60px;\">HOLA</h1>\n",
    "<h2>HOLA</h2>\n",
    "<p>HOLA</p>\n",
    "<b>HOLA</b>\n",
    "<img src=\"img/mascotas.jpg\" style=\"width:250px;\"/>"
   ]
  },
  {
   "cell_type": "code",
   "execution_count": null,
   "id": "52c3a008-afd6-4cff-a1d0-c39bf36147ff",
   "metadata": {},
   "outputs": [],
   "source": [
    "print(\"hola\")"
   ]
  }
 ],
 "metadata": {
  "kernelspec": {
   "display_name": "Python 3 (ipykernel)",
   "language": "python",
   "name": "python3"
  },
  "language_info": {
   "codemirror_mode": {
    "name": "ipython",
    "version": 3
   },
   "file_extension": ".py",
   "mimetype": "text/x-python",
   "name": "python",
   "nbconvert_exporter": "python",
   "pygments_lexer": "ipython3",
   "version": "3.9.7"
  }
 },
 "nbformat": 4,
 "nbformat_minor": 5
}
